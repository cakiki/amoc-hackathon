{
 "cells": [
  {
   "cell_type": "code",
   "execution_count": null,
   "metadata": {},
   "outputs": [],
   "source": [
    "import pandas as pd\n",
    "import numpy as np\n",
    "import tensorflow_hub as hub\n",
    "import tensorflow as tf"
   ]
  },
  {
   "cell_type": "code",
   "execution_count": null,
   "metadata": {},
   "outputs": [],
   "source": [
    "INPUT_PATH = \"../data/base.parquet\"\n",
    "MODEL_PATH = \"https://tfhub.dev/google/universal-sentence-encoder/4\"\n",
    "OUTPUT_PATH = \"../data/embeddings.parquet\""
   ]
  },
  {
   "cell_type": "code",
   "execution_count": null,
   "metadata": {},
   "outputs": [],
   "source": [
    "def tf_hub_embedder(df, col, model, batch_size=512):\n",
    "    dataset = tf.data.Dataset.from_tensor_slices(df[col].values)\n",
    "    dataset = dataset.batch(batch_size)\n",
    "    embeddings = []\n",
    "    total = len(df)\n",
    "    current = 0\n",
    "    for batch in dataset:\n",
    "        embedding = model(batch)\n",
    "        embeddings.append(embedding.numpy())\n",
    "        current += batch_size\n",
    "        print(\"{}/{}\".format(current, total), end=\"\\r\")\n",
    "    return np.vstack(embeddings)"
   ]
  },
  {
   "cell_type": "code",
   "execution_count": null,
   "metadata": {},
   "outputs": [],
   "source": [
    "df = pd.read_parquet(\"../data/base.parquet\")"
   ]
  },
  {
   "cell_type": "code",
   "execution_count": null,
   "metadata": {},
   "outputs": [],
   "source": [
    "embed = hub.load(MODEL_PATH)"
   ]
  },
  {
   "cell_type": "code",
   "execution_count": null,
   "metadata": {},
   "outputs": [],
   "source": [
    "embeddings = tf_hub_embedder(df, \"body\", embed)"
   ]
  },
  {
   "cell_type": "code",
   "execution_count": null,
   "metadata": {},
   "outputs": [],
   "source": [
    "pd.DataFrame(zip(df.uuid, embeddings), columns=[\"uuid\",\"body_embedding\"]).to_parquet(OUTPUT_PATH)"
   ]
  }
 ],
 "metadata": {
  "kernelspec": {
   "display_name": "Python 3",
   "language": "python",
   "name": "python3"
  },
  "language_info": {
   "codemirror_mode": {
    "name": "ipython",
    "version": 3
   },
   "file_extension": ".py",
   "mimetype": "text/x-python",
   "name": "python",
   "nbconvert_exporter": "python",
   "pygments_lexer": "ipython3",
   "version": "3.8.6"
  }
 },
 "nbformat": 4,
 "nbformat_minor": 4
}
