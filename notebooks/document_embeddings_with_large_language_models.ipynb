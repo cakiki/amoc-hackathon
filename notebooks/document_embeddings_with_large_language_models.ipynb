{
 "cells": [
  {
   "cell_type": "code",
   "execution_count": 1,
   "metadata": {},
   "outputs": [
    {
     "data": {
      "text/html": [
       "<style>.container { width:95% !important; }</style>"
      ],
      "text/plain": [
       "<IPython.core.display.HTML object>"
      ]
     },
     "metadata": {},
     "output_type": "display_data"
    }
   ],
   "source": [
    "from IPython.core.display import display, HTML\n",
    "display(HTML(\"<style>.container { width:95% !important; }</style>\"))"
   ]
  },
  {
   "cell_type": "code",
   "execution_count": 2,
   "metadata": {},
   "outputs": [],
   "source": [
    "from utils import *"
   ]
  },
  {
   "cell_type": "code",
   "execution_count": 5,
   "metadata": {},
   "outputs": [],
   "source": [
    "INPUT_PATH = \"../data/base.parquet\"\n",
    "MODEL_PATH = \"https://tfhub.dev/google/universal-sentence-encoder/4\"\n",
    "OUTPUT_PATH = \"../data/embeddings.parquet\""
   ]
  },
  {
   "cell_type": "code",
   "execution_count": 6,
   "metadata": {},
   "outputs": [],
   "source": [
    "df = pd.read_parquet(INPUT_PATH)\n",
    "embed = hub.load(MODEL_PATH)"
   ]
  },
  {
   "cell_type": "code",
   "execution_count": 7,
   "metadata": {},
   "outputs": [
    {
     "data": {
      "text/html": [
       "<div>\n",
       "<style scoped>\n",
       "    .dataframe tbody tr th:only-of-type {\n",
       "        vertical-align: middle;\n",
       "    }\n",
       "\n",
       "    .dataframe tbody tr th {\n",
       "        vertical-align: top;\n",
       "    }\n",
       "\n",
       "    .dataframe thead th {\n",
       "        text-align: right;\n",
       "    }\n",
       "</style>\n",
       "<table border=\"1\" class=\"dataframe\">\n",
       "  <thead>\n",
       "    <tr style=\"text-align: right;\">\n",
       "      <th></th>\n",
       "      <th>community</th>\n",
       "      <th>user_id</th>\n",
       "      <th>thread_id</th>\n",
       "      <th>date</th>\n",
       "      <th>subject</th>\n",
       "      <th>category</th>\n",
       "      <th>body</th>\n",
       "      <th>quotes</th>\n",
       "      <th>uuid</th>\n",
       "    </tr>\n",
       "  </thead>\n",
       "  <tbody>\n",
       "    <tr>\n",
       "      <th>0</th>\n",
       "      <td>Evolution Forums</td>\n",
       "      <td>b3d65d87887506a226923f1b08b67c69faba1efb26a2fa...</td>\n",
       "      <td>37163</td>\n",
       "      <td>2014-12-10 22:59:52</td>\n",
       "      <td>Changes to order process for FE listings (Auto...</td>\n",
       "      <td>Announcements</td>\n",
       "      <td>Henceforth Evolution will automatically releas...</td>\n",
       "      <td>nan</td>\n",
       "      <td>-4170171173165973422</td>\n",
       "    </tr>\n",
       "    <tr>\n",
       "      <th>1</th>\n",
       "      <td>Evolution Forums</td>\n",
       "      <td>046ecde3177c87e9173e3d08ec5000ccf13a6f087e1929...</td>\n",
       "      <td>37163</td>\n",
       "      <td>2014-12-10 23:03:32</td>\n",
       "      <td>Re: Changes to order process for FE listings (...</td>\n",
       "      <td>Announcements</td>\n",
       "      <td>Sweet! No need to keep logging on in the morni...</td>\n",
       "      <td>nan</td>\n",
       "      <td>-4410324336093370437</td>\n",
       "    </tr>\n",
       "    <tr>\n",
       "      <th>2</th>\n",
       "      <td>Evolution Forums</td>\n",
       "      <td>a4d9a8a70225b297661655a7ea032387ae4b2fdc5df5b5...</td>\n",
       "      <td>37163</td>\n",
       "      <td>2014-12-10 23:08:15</td>\n",
       "      <td>Re: Changes to order process for FE listings (...</td>\n",
       "      <td>Announcements</td>\n",
       "      <td>Good move, although it will be interesting to ...</td>\n",
       "      <td>nan</td>\n",
       "      <td>2292277039528005701</td>\n",
       "    </tr>\n",
       "    <tr>\n",
       "      <th>3</th>\n",
       "      <td>Evolution Forums</td>\n",
       "      <td>753cece12915dd5e69d190c52917990a43a76b07e2f461...</td>\n",
       "      <td>37163</td>\n",
       "      <td>2014-12-10 23:09:08</td>\n",
       "      <td>Re: Changes to order process for FE listings (...</td>\n",
       "      <td>Announcements</td>\n",
       "      <td>TOOP! thanks Kimble This speeds up the work fo...</td>\n",
       "      <td>nan</td>\n",
       "      <td>6452620963465746902</td>\n",
       "    </tr>\n",
       "    <tr>\n",
       "      <th>4</th>\n",
       "      <td>Evolution Forums</td>\n",
       "      <td>5f1f3b0a3a79ea76b1e3b1c5df4ba05d2a9f2c8b30459b...</td>\n",
       "      <td>37163</td>\n",
       "      <td>2014-12-10 23:09:34</td>\n",
       "      <td>Re: Changes to order process for FE listings (...</td>\n",
       "      <td>Announcements</td>\n",
       "      <td>well done, you are all doing a great work kimble</td>\n",
       "      <td>nan</td>\n",
       "      <td>-7115332770257554039</td>\n",
       "    </tr>\n",
       "  </tbody>\n",
       "</table>\n",
       "</div>"
      ],
      "text/plain": [
       "          community                                            user_id  \\\n",
       "0  Evolution Forums  b3d65d87887506a226923f1b08b67c69faba1efb26a2fa...   \n",
       "1  Evolution Forums  046ecde3177c87e9173e3d08ec5000ccf13a6f087e1929...   \n",
       "2  Evolution Forums  a4d9a8a70225b297661655a7ea032387ae4b2fdc5df5b5...   \n",
       "3  Evolution Forums  753cece12915dd5e69d190c52917990a43a76b07e2f461...   \n",
       "4  Evolution Forums  5f1f3b0a3a79ea76b1e3b1c5df4ba05d2a9f2c8b30459b...   \n",
       "\n",
       "  thread_id                date  \\\n",
       "0     37163 2014-12-10 22:59:52   \n",
       "1     37163 2014-12-10 23:03:32   \n",
       "2     37163 2014-12-10 23:08:15   \n",
       "3     37163 2014-12-10 23:09:08   \n",
       "4     37163 2014-12-10 23:09:34   \n",
       "\n",
       "                                             subject       category  \\\n",
       "0  Changes to order process for FE listings (Auto...  Announcements   \n",
       "1  Re: Changes to order process for FE listings (...  Announcements   \n",
       "2  Re: Changes to order process for FE listings (...  Announcements   \n",
       "3  Re: Changes to order process for FE listings (...  Announcements   \n",
       "4  Re: Changes to order process for FE listings (...  Announcements   \n",
       "\n",
       "                                                body quotes  \\\n",
       "0  Henceforth Evolution will automatically releas...    nan   \n",
       "1  Sweet! No need to keep logging on in the morni...    nan   \n",
       "2  Good move, although it will be interesting to ...    nan   \n",
       "3  TOOP! thanks Kimble This speeds up the work fo...    nan   \n",
       "4   well done, you are all doing a great work kimble    nan   \n",
       "\n",
       "                   uuid  \n",
       "0  -4170171173165973422  \n",
       "1  -4410324336093370437  \n",
       "2   2292277039528005701  \n",
       "3   6452620963465746902  \n",
       "4  -7115332770257554039  "
      ]
     },
     "execution_count": 7,
     "metadata": {},
     "output_type": "execute_result"
    }
   ],
   "source": [
    "df.head()"
   ]
  },
  {
   "cell_type": "code",
   "execution_count": null,
   "metadata": {},
   "outputs": [
    {
     "data": {
      "application/vnd.jupyter.widget-view+json": {
       "model_id": "a07c2916e7194f7f8071c829f27fb204",
       "version_major": 2,
       "version_minor": 0
      },
      "text/plain": [
       "  0%|          | 0/6355 [00:00<?, ?it/s]"
      ]
     },
     "metadata": {},
     "output_type": "display_data"
    }
   ],
   "source": [
    "column_to_embed = \"subject\"\n",
    "subject_embeddings = tf_hub_embedder(df, column_to_embed, embed)"
   ]
  },
  {
   "cell_type": "code",
   "execution_count": null,
   "metadata": {},
   "outputs": [],
   "source": []
  },
  {
   "cell_type": "code",
   "execution_count": null,
   "metadata": {},
   "outputs": [],
   "source": [
    "pd.DataFrame(zip(df.uuid, embeddings), columns=[\"uuid\",\"body_embedding\"]).to_parquet(OUTPUT_PATH)"
   ]
  }
 ],
 "metadata": {
  "kernelspec": {
   "display_name": "Python 3",
   "language": "python",
   "name": "python3"
  },
  "language_info": {
   "codemirror_mode": {
    "name": "ipython",
    "version": 3
   },
   "file_extension": ".py",
   "mimetype": "text/x-python",
   "name": "python",
   "nbconvert_exporter": "python",
   "pygments_lexer": "ipython3",
   "version": "3.6.9"
  }
 },
 "nbformat": 4,
 "nbformat_minor": 4
}
