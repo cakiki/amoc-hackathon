{
 "cells": [
  {
   "cell_type": "code",
   "execution_count": 1,
   "metadata": {},
   "outputs": [],
   "source": [
    "import pandas as pd\n",
    "import numpy as np\n",
    "import cupy as cp\n",
    "import cudf\n",
    "from cuml.manifold import TSNE"
   ]
  },
  {
   "cell_type": "code",
   "execution_count": 2,
   "metadata": {},
   "outputs": [],
   "source": [
    "df = pd.read_parquet('../data/base.parquet').reset_index()\n",
    "data = cp.load(\"../data/body_embeddings.npy\", mmap_mode=\"r\")"
   ]
  },
  {
   "cell_type": "code",
   "execution_count": null,
   "metadata": {},
   "outputs": [
    {
     "name": "stdout",
     "output_type": "stream",
     "text": [
      " Now writing evolutionforums_perplexity_10_x_y.parquet\n",
      " Now writing themajesticgardenforums_perplexity_10_x_y.parquet\n",
      " Now writing cannabisroad2_perplexity_10_x_y.parquet\n",
      " Now writing outlawmarketforums_perplexity_10_x_y.parquet\n",
      " Now writing blackbankmarketforums_perplexity_10_x_y.parquet\n",
      " Now writing tortugaforums_perplexity_10_x_y.parquet\n",
      " Now writing thehubforums_perplexity_10_x_y.parquet\n",
      " Now writing panaceaforums_perplexity_10_x_y.parquet\n",
      " Now writing agoraforums_perplexity_10_x_y.parquet\n",
      " Now writing projectblackflagforums_perplexity_10_x_y.parquet\n",
      " Now writing pandoraforums_perplexity_10_x_y.parquet\n",
      " Now writing webkill_perplexity_10_x_y.parquet\n",
      " Now writing revolverforums_perplexity_10_x_y.parquet\n",
      " Now writing greyroadforums_perplexity_10_x_y.parquet\n",
      " Now writing cannabisroad3_perplexity_10_x_y.parquet\n",
      " Now writing bungee54forums_perplexity_10_x_y.parquet\n",
      " Now writing kissforums_perplexity_10_x_y.parquet\n",
      " Now writing dogeroadforums_perplexity_10_x_y.parquet\n",
      " Now writing therealdealforums_perplexity_10_x_y.parquet\n",
      " Now writing hackhound_perplexity_10_x_y.parquet\n",
      " Now writing abraxasforums_perplexity_10_x_y.parquet\n"
     ]
    }
   ],
   "source": [
    "%%time\n",
    "for forum in df['community'].unique():\n",
    "    forum_df = df[df['community'] == forum]\n",
    "    ix = cp.array(forum_df.index)\n",
    "    X_forum = data[ix]\n",
    "    PERPLEXITY = 10\n",
    "    tsne = TSNE(n_components = 2, perplexity=PERPLEXITY)\n",
    "    location = tsne.fit_transform(X_forum)\n",
    "    forum_x_y = cudf.DataFrame([(x[0],x[1][0],x[1][1]) for x in zip(forum_df['uuid'].tolist(), location.tolist())], columns = [\"uuid\",\"x\", \"y\"])\n",
    "    print(f' Now writing {forum.lower().replace(\" \", \"\")}_perplexity_{PERPLEXITY}_x_y.parquet')\n",
    "    forum_x_y.to_parquet(f'../data/{forum.lower().replace(\" \", \"\")}_perplexity_{PERPLEXITY}_x_y.parquet')"
   ]
  },
  {
   "cell_type": "code",
   "execution_count": null,
   "metadata": {},
   "outputs": [
    {
     "name": "stdout",
     "output_type": "stream",
     "text": [
      " Now writing blackmarketreloadedforums_perplexity_10_x_y.parquet\n",
      " Now writing silkroad2forums_perplexity_10_x_y.parquet\n",
      " Now writing utopiaforums_perplexity_10_x_y.parquet\n",
      " Now writing darkbayforums_perplexity_10_x_y.parquet\n"
     ]
    }
   ],
   "source": [
    "for forum in ['BlackMarketReloaded Forums', 'Silk Road 2 Forums', 'Utopia Forums', 'DarkBay Forums', 'crackingfire', 'DarknetHeroes Forums', \n",
    "              'Diabolus Forums', 'Andromeda Forums', 'Kingdom Forums', 'Havana/Absolem Forums', 'Silk Road Forums', 'crackingarena', \n",
    "              'MrNiceGuy Forums', 'Nucleus Forums', 'Hydra Forums', 'TorBazaar Forums', 'Tom Forums', 'TorEscrow Forums']:\n",
    "    forum_df = df[df['community'] == forum]\n",
    "    ix = cp.array(forum_df.index)\n",
    "    X_forum = data[ix]\n",
    "    PERPLEXITY = 10\n",
    "    tsne = TSNE(n_components = 2, perplexity=PERPLEXITY)\n",
    "    location = tsne.fit_transform(X_forum)\n",
    "    forum_x_y = cudf.DataFrame([(x[0],x[1][0],x[1][1]) for x in zip(forum_df['uuid'].tolist(), location.tolist())], columns = [\"uuid\",\"x\", \"y\"])\n",
    "    print(f' Now writing {forum.lower().replace(\" \", \"\")}_perplexity_{PERPLEXITY}_x_y.parquet')\n",
    "    forum_x_y.to_parquet(f'../data/{forum.lower().replace(\" \", \"\")}_perplexity_{PERPLEXITY}_x_y.parquet')"
   ]
  },
  {
   "cell_type": "code",
   "execution_count": null,
   "metadata": {},
   "outputs": [
    {
     "name": "stdout",
     "output_type": "stream",
     "text": [
      " Now writing darknetheroesforums_perplexity_10_x_y.parquet\n",
      " Now writing diabolusforums_perplexity_10_x_y.parquet\n",
      " Now writing andromedaforums_perplexity_10_x_y.parquet\n",
      " Now writing kingdomforums_perplexity_10_x_y.parquet\n",
      " Now writing havana/absolemforums_perplexity_10_x_y.parquet\n",
      " Now writing silkroadforums_perplexity_10_x_y.parquet\n"
     ]
    }
   ],
   "source": [
    "for forum in ['DarknetHeroes Forums', 'Diabolus Forums', 'Andromeda Forums', 'Kingdom Forums', 'Havana/Absolem Forums', 'Silk Road Forums', \n",
    "              'crackingarena', 'MrNiceGuy Forums', 'Nucleus Forums', 'Hydra Forums', 'TorBazaar Forums', 'Tom Forums', 'TorEscrow Forums']:\n",
    "    forum_df = df[df['community'] == forum]\n",
    "    ix = cp.array(forum_df.index)\n",
    "    X_forum = data[ix]\n",
    "    PERPLEXITY = 10\n",
    "    tsne = TSNE(n_components = 2, perplexity=PERPLEXITY)\n",
    "    location = tsne.fit_transform(X_forum)\n",
    "    forum_x_y = cudf.DataFrame([(x[0],x[1][0],x[1][1]) for x in zip(forum_df['uuid'].tolist(), location.tolist())], columns = [\"uuid\",\"x\", \"y\"])\n",
    "    print(f' Now writing {forum.lower().replace(\" \", \"\")}_perplexity_{PERPLEXITY}_x_y.parquet')\n",
    "    forum_x_y.to_parquet(f'../data/{forum.lower().replace(\" \", \"\").replace(\"/\", \"\")}_perplexity_{PERPLEXITY}_x_y.parquet')"
   ]
  },
  {
   "cell_type": "code",
   "execution_count": 31,
   "metadata": {},
   "outputs": [
    {
     "name": "stdout",
     "output_type": "stream",
     "text": [
      "415 ms ± 3.68 ms per loop (mean ± std. dev. of 7 runs, 1 loop each)\n"
     ]
    }
   ],
   "source": [
    "for forum in ['MrNiceGuy Forums', 'Nucleus Forums', 'Hydra Forums', 'TorBazaar Forums', 'Tom Forums', 'TorEscrow Forums']:\n",
    "    forum_df = df[df['community'] == forum]\n",
    "    ix = cp.array(forum_df.index)\n",
    "    X_forum = data[ix]\n",
    "    PERPLEXITY = 10\n",
    "    tsne = TSNE(n_components = 2, perplexity=PERPLEXITY)\n",
    "    location = tsne.fit_transform(X_forum)\n",
    "    forum_x_y = cudf.DataFrame([(x[0],x[1][0],x[1][1]) for x in zip(forum_df['uuid'].tolist(), location.tolist())], columns = [\"uuid\",\"x\", \"y\"])\n",
    "    print(f' Now writing {forum.lower().replace(\" \", \"\")}_perplexity_{PERPLEXITY}_x_y.parquet')\n",
    "    forum_x_y.to_parquet(f'../data/{forum.lower().replace(\" \", \"\").replace(\"/\", \"\")}_perplexity_{PERPLEXITY}_x_y.parquet')"
   ]
  },
  {
   "cell_type": "code",
   "execution_count": 9,
   "metadata": {},
   "outputs": [],
   "source": [
    "# Efficient sample drawing from the dataset\n",
    "data = np.load(\"../data/body_embeddings.npy\", mmap_mode=\"r\")\n",
    "data = data[0:500_000]\n",
    "\n",
    "X = np.array(data.tolist())"
   ]
  },
  {
   "cell_type": "code",
   "execution_count": 10,
   "metadata": {},
   "outputs": [
    {
     "data": {
      "text/plain": [
       "(500000, 512)"
      ]
     },
     "execution_count": 10,
     "metadata": {},
     "output_type": "execute_result"
    }
   ],
   "source": [
    "X.shape"
   ]
  },
  {
   "cell_type": "code",
   "execution_count": 11,
   "metadata": {},
   "outputs": [
    {
     "name": "stdout",
     "output_type": "stream",
     "text": [
      "[W] [12:46:56.523587] # of Nearest Neighbors should be at least 3 * perplexity. Your results might be a bit strange...\n",
      "CPU times: user 14 s, sys: 8.69 s, total: 22.6 s\n",
      "Wall time: 22.5 s\n"
     ]
    }
   ],
   "source": [
    "%%time\n",
    "\n",
    "tsne = TSNE(n_components = 2, perplexity=50)\n",
    "location = tsne.fit_transform(X)"
   ]
  },
  {
   "cell_type": "code",
   "execution_count": 17,
   "metadata": {},
   "outputs": [
    {
     "name": "stdout",
     "output_type": "stream",
     "text": [
      "CPU times: user 7.79 s, sys: 4.39 s, total: 12.2 s\n",
      "Wall time: 12.1 s\n"
     ]
    }
   ],
   "source": [
    "%%time\n",
    "from cuml.manifold import UMAP\n",
    "\n",
    "umap = UMAP()\n",
    "location = umap.fit_transform(X)"
   ]
  },
  {
   "cell_type": "code",
   "execution_count": 12,
   "metadata": {},
   "outputs": [
    {
     "name": "stdout",
     "output_type": "stream",
     "text": [
      "CPU times: user 17 s, sys: 8.49 s, total: 25.5 s\n",
      "Wall time: 25.4 s\n"
     ]
    }
   ],
   "source": [
    "%%time\n",
    "#from cuml.cluster import DBSCAN\n",
    "#dbscan = DBSCAN(eps = .7, min_samples = 3)\n",
    "#labels = dbscan.fit_predict(X)\n",
    "\n",
    "from cuml.cluster import KMeans\n",
    "\n",
    "kmeans = KMeans(n_clusters=100)\n",
    "labels = kmeans.fit_predict(X)"
   ]
  },
  {
   "cell_type": "code",
   "execution_count": 18,
   "metadata": {},
   "outputs": [
    {
     "data": {
      "text/html": [
       "<div>\n",
       "<style scoped>\n",
       "    .dataframe tbody tr th:only-of-type {\n",
       "        vertical-align: middle;\n",
       "    }\n",
       "\n",
       "    .dataframe tbody tr th {\n",
       "        vertical-align: top;\n",
       "    }\n",
       "\n",
       "    .dataframe thead th {\n",
       "        text-align: right;\n",
       "    }\n",
       "</style>\n",
       "<table border=\"1\" class=\"dataframe\">\n",
       "  <thead>\n",
       "    <tr style=\"text-align: right;\">\n",
       "      <th></th>\n",
       "      <th>label</th>\n",
       "      <th>x</th>\n",
       "      <th>y</th>\n",
       "    </tr>\n",
       "  </thead>\n",
       "  <tbody>\n",
       "    <tr>\n",
       "      <th>0</th>\n",
       "      <td>1</td>\n",
       "      <td>3.460067</td>\n",
       "      <td>-0.855825</td>\n",
       "    </tr>\n",
       "    <tr>\n",
       "      <th>1</th>\n",
       "      <td>23</td>\n",
       "      <td>2.007073</td>\n",
       "      <td>0.491921</td>\n",
       "    </tr>\n",
       "    <tr>\n",
       "      <th>2</th>\n",
       "      <td>20</td>\n",
       "      <td>0.392604</td>\n",
       "      <td>1.650586</td>\n",
       "    </tr>\n",
       "    <tr>\n",
       "      <th>3</th>\n",
       "      <td>36</td>\n",
       "      <td>1.862873</td>\n",
       "      <td>0.514634</td>\n",
       "    </tr>\n",
       "    <tr>\n",
       "      <th>4</th>\n",
       "      <td>3</td>\n",
       "      <td>-1.897559</td>\n",
       "      <td>2.140501</td>\n",
       "    </tr>\n",
       "  </tbody>\n",
       "</table>\n",
       "</div>"
      ],
      "text/plain": [
       "   label         x         y\n",
       "0      1  3.460067 -0.855825\n",
       "1     23  2.007073  0.491921\n",
       "2     20  0.392604  1.650586\n",
       "3     36  1.862873  0.514634\n",
       "4      3 -1.897559  2.140501"
      ]
     },
     "execution_count": 18,
     "metadata": {},
     "output_type": "execute_result"
    }
   ],
   "source": [
    "# Read construct DataFrame\n",
    "df = pd.DataFrame([(x[0],x[1][0],x[1][1]) for x in zip(labels, location.tolist())], columns = [\"label\",\"x\", \"y\"])\n",
    "df.head()"
   ]
  },
  {
   "cell_type": "code",
   "execution_count": 22,
   "metadata": {},
   "outputs": [],
   "source": [
    "# import holoviews as hv\n",
    "# from holoviews.operation.datashader import datashade\n",
    "# import datashader as ds\n",
    "\n",
    "# hv.extension('bokeh')\n",
    "\n",
    "\n",
    "# opts = hv.opts.RGB(width=800, height=600)\n",
    "\n",
    "# # Uncomment to run, result is too large to save it with the notebook\n",
    "# scatter = hv.Scatter(df, kdims=[\"x\"], vdims=[\"y\",\"label\"])\n",
    "# scatter.opts(color=\"label\", cmap=\"glasbey_warm\", width=800, height=600)\n",
    "\n",
    "# # scatter\n",
    "# # #datashade(scatter, cmap=\"glasbey_warm\").opts(opts)"
   ]
  },
  {
   "cell_type": "code",
   "execution_count": null,
   "metadata": {},
   "outputs": [],
   "source": []
  }
 ],
 "metadata": {
  "kernelspec": {
   "display_name": "Python 3",
   "language": "python",
   "name": "python3"
  },
  "language_info": {
   "codemirror_mode": {
    "name": "ipython",
    "version": 3
   },
   "file_extension": ".py",
   "mimetype": "text/x-python",
   "name": "python",
   "nbconvert_exporter": "python",
   "pygments_lexer": "ipython3",
   "version": "3.7.8"
  }
 },
 "nbformat": 4,
 "nbformat_minor": 4
}
