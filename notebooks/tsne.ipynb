{
 "cells": [
  {
   "cell_type": "code",
   "execution_count": 28,
   "metadata": {},
   "outputs": [],
   "source": [
    "import pandas as pd\n",
    "import numpy as np\n",
    "import cupy as cp\n",
    "import cudf\n",
    "from cuml.manifold import TSNE"
   ]
  },
  {
   "cell_type": "code",
   "execution_count": 40,
   "metadata": {},
   "outputs": [],
   "source": [
    "df = pd.read_parquet('../data/base.parquet').reset_index()\n",
    "data = cp.load(\"../data/body_embeddings.npy\", mmap_mode=\"r\")"
   ]
  },
  {
   "cell_type": "code",
   "execution_count": null,
   "metadata": {},
   "outputs": [
    {
     "name": "stdout",
     "output_type": "stream",
     "text": [
      " Now writing evolutionforums_perplexity_10_x_y.parquet\n",
      " Now writing themajesticgardenforums_perplexity_10_x_y.parquet\n",
      " Now writing cannabisroad2_perplexity_10_x_y.parquet\n",
      " Now writing outlawmarketforums_perplexity_10_x_y.parquet\n",
      " Now writing blackbankmarketforums_perplexity_10_x_y.parquet\n",
      " Now writing tortugaforums_perplexity_10_x_y.parquet\n",
      " Now writing thehubforums_perplexity_10_x_y.parquet\n",
      " Now writing panaceaforums_perplexity_10_x_y.parquet\n",
      " Now writing agoraforums_perplexity_10_x_y.parquet\n",
      " Now writing projectblackflagforums_perplexity_10_x_y.parquet\n",
      " Now writing pandoraforums_perplexity_10_x_y.parquet\n",
      " Now writing webkill_perplexity_10_x_y.parquet\n",
      " Now writing revolverforums_perplexity_10_x_y.parquet\n",
      " Now writing greyroadforums_perplexity_10_x_y.parquet\n",
      " Now writing cannabisroad3_perplexity_10_x_y.parquet\n",
      " Now writing bungee54forums_perplexity_10_x_y.parquet\n",
      " Now writing kissforums_perplexity_10_x_y.parquet\n",
      " Now writing dogeroadforums_perplexity_10_x_y.parquet\n",
      " Now writing therealdealforums_perplexity_10_x_y.parquet\n",
      " Now writing hackhound_perplexity_10_x_y.parquet\n",
      " Now writing abraxasforums_perplexity_10_x_y.parquet\n"
     ]
    }
   ],
   "source": [
    "%%time\n",
    "for forum in df['community'].unique():\n",
    "    forum_df = df[df['community'] == forum]\n",
    "    ix = cp.array(forum_df.index)\n",
    "    X_forum = data[ix]\n",
    "    PERPLEXITY = 10\n",
    "    tsne = TSNE(n_components = 2, perplexity=PERPLEXITY)\n",
    "    location = tsne.fit_transform(X_forum)\n",
    "    forum_x_y = cudf.DataFrame([(x[0],x[1][0],x[1][1]) for x in zip(forum_df['uuid'].tolist(), location.tolist())], columns = [\"uuid\",\"x\", \"y\"])\n",
    "    print(f' Now writing {forum.lower().replace(\" \", \"\")}_perplexity_{PERPLEXITY}_x_y.parquet')\n",
    "    forum_x_y.to_parquet(f'../data/{forum.lower().replace(\" \", \"\")}_perplexity_{PERPLEXITY}_x_y.parquet')"
   ]
  },
  {
   "cell_type": "code",
   "execution_count": 57,
   "metadata": {},
   "outputs": [
    {
     "data": {
      "text/html": [
       "<div>\n",
       "<style scoped>\n",
       "    .dataframe tbody tr th:only-of-type {\n",
       "        vertical-align: middle;\n",
       "    }\n",
       "\n",
       "    .dataframe tbody tr th {\n",
       "        vertical-align: top;\n",
       "    }\n",
       "\n",
       "    .dataframe thead th {\n",
       "        text-align: right;\n",
       "    }\n",
       "</style>\n",
       "<table border=\"1\" class=\"dataframe\">\n",
       "  <thead>\n",
       "    <tr style=\"text-align: right;\">\n",
       "      <th></th>\n",
       "      <th>index</th>\n",
       "      <th>community</th>\n",
       "      <th>user_id</th>\n",
       "      <th>thread_id</th>\n",
       "      <th>date</th>\n",
       "      <th>subject</th>\n",
       "      <th>category</th>\n",
       "      <th>body</th>\n",
       "      <th>quotes</th>\n",
       "      <th>uuid</th>\n",
       "    </tr>\n",
       "  </thead>\n",
       "  <tbody>\n",
       "    <tr>\n",
       "      <th>0</th>\n",
       "      <td>0</td>\n",
       "      <td>Evolution Forums</td>\n",
       "      <td>b3d65d87887506a226923f1b08b67c69faba1efb26a2fa...</td>\n",
       "      <td>37163</td>\n",
       "      <td>2014-12-10 22:59:52</td>\n",
       "      <td>Changes to order process for FE listings (Auto...</td>\n",
       "      <td>Announcements</td>\n",
       "      <td>Henceforth Evolution will automatically releas...</td>\n",
       "      <td>nan</td>\n",
       "      <td>-4170171173165973422</td>\n",
       "    </tr>\n",
       "    <tr>\n",
       "      <th>1</th>\n",
       "      <td>1</td>\n",
       "      <td>Evolution Forums</td>\n",
       "      <td>046ecde3177c87e9173e3d08ec5000ccf13a6f087e1929...</td>\n",
       "      <td>37163</td>\n",
       "      <td>2014-12-10 23:03:32</td>\n",
       "      <td>Re: Changes to order process for FE listings (...</td>\n",
       "      <td>Announcements</td>\n",
       "      <td>Sweet! No need to keep logging on in the morni...</td>\n",
       "      <td>nan</td>\n",
       "      <td>-4410324336093370437</td>\n",
       "    </tr>\n",
       "    <tr>\n",
       "      <th>2</th>\n",
       "      <td>2</td>\n",
       "      <td>Evolution Forums</td>\n",
       "      <td>a4d9a8a70225b297661655a7ea032387ae4b2fdc5df5b5...</td>\n",
       "      <td>37163</td>\n",
       "      <td>2014-12-10 23:08:15</td>\n",
       "      <td>Re: Changes to order process for FE listings (...</td>\n",
       "      <td>Announcements</td>\n",
       "      <td>Good move, although it will be interesting to ...</td>\n",
       "      <td>nan</td>\n",
       "      <td>2292277039528005701</td>\n",
       "    </tr>\n",
       "    <tr>\n",
       "      <th>3</th>\n",
       "      <td>3</td>\n",
       "      <td>Evolution Forums</td>\n",
       "      <td>753cece12915dd5e69d190c52917990a43a76b07e2f461...</td>\n",
       "      <td>37163</td>\n",
       "      <td>2014-12-10 23:09:08</td>\n",
       "      <td>Re: Changes to order process for FE listings (...</td>\n",
       "      <td>Announcements</td>\n",
       "      <td>TOOP! thanks Kimble This speeds up the work fo...</td>\n",
       "      <td>nan</td>\n",
       "      <td>6452620963465746902</td>\n",
       "    </tr>\n",
       "    <tr>\n",
       "      <th>4</th>\n",
       "      <td>4</td>\n",
       "      <td>Evolution Forums</td>\n",
       "      <td>5f1f3b0a3a79ea76b1e3b1c5df4ba05d2a9f2c8b30459b...</td>\n",
       "      <td>37163</td>\n",
       "      <td>2014-12-10 23:09:34</td>\n",
       "      <td>Re: Changes to order process for FE listings (...</td>\n",
       "      <td>Announcements</td>\n",
       "      <td>well done, you are all doing a great work kimble</td>\n",
       "      <td>nan</td>\n",
       "      <td>-7115332770257554039</td>\n",
       "    </tr>\n",
       "    <tr>\n",
       "      <th>...</th>\n",
       "      <td>...</td>\n",
       "      <td>...</td>\n",
       "      <td>...</td>\n",
       "      <td>...</td>\n",
       "      <td>...</td>\n",
       "      <td>...</td>\n",
       "      <td>...</td>\n",
       "      <td>...</td>\n",
       "      <td>...</td>\n",
       "      <td>...</td>\n",
       "    </tr>\n",
       "    <tr>\n",
       "      <th>509220</th>\n",
       "      <td>509220</td>\n",
       "      <td>Evolution Forums</td>\n",
       "      <td>7f2a9aa665e92a06c8bcf8b5b7f627a980c8306b715d71...</td>\n",
       "      <td>513</td>\n",
       "      <td>2014-01-22 00:00:00</td>\n",
       "      <td>HSBC / Diebold ATM Overlay program</td>\n",
       "      <td>Physical Carding</td>\n",
       "      <td>http://k5zq47j6wd3wdvjq.onion/listing/791 Hi, ...</td>\n",
       "      <td>nan</td>\n",
       "      <td>-5509527057949265645</td>\n",
       "    </tr>\n",
       "    <tr>\n",
       "      <th>509221</th>\n",
       "      <td>509221</td>\n",
       "      <td>Evolution Forums</td>\n",
       "      <td>beb709889f56510ab381dacc58d185bc912f3d57a668a6...</td>\n",
       "      <td>521</td>\n",
       "      <td>2014-01-22 00:00:00</td>\n",
       "      <td>using a black card online</td>\n",
       "      <td>Virtual Carding</td>\n",
       "      <td>anyone have experience with using one? how is ...</td>\n",
       "      <td>nan</td>\n",
       "      <td>3323430811865069316</td>\n",
       "    </tr>\n",
       "    <tr>\n",
       "      <th>509222</th>\n",
       "      <td>509222</td>\n",
       "      <td>Evolution Forums</td>\n",
       "      <td>f7d85816546b423c78e921c69596979d18ccff73e81030...</td>\n",
       "      <td>521</td>\n",
       "      <td>2014-01-22 00:00:00</td>\n",
       "      <td>Re: using a black card online</td>\n",
       "      <td>Virtual Carding</td>\n",
       "      <td>I have black cards that are non avs and with n...</td>\n",
       "      <td>nan</td>\n",
       "      <td>-7900105030804370056</td>\n",
       "    </tr>\n",
       "    <tr>\n",
       "      <th>509223</th>\n",
       "      <td>509223</td>\n",
       "      <td>Evolution Forums</td>\n",
       "      <td>beb709889f56510ab381dacc58d185bc912f3d57a668a6...</td>\n",
       "      <td>521</td>\n",
       "      <td>2014-01-22 00:00:00</td>\n",
       "      <td>Re: using a black card online</td>\n",
       "      <td>Virtual Carding</td>\n",
       "      <td>damn....why not though. and i was thinking the...</td>\n",
       "      <td>nan</td>\n",
       "      <td>-5650770537237783382</td>\n",
       "    </tr>\n",
       "    <tr>\n",
       "      <th>509224</th>\n",
       "      <td>509224</td>\n",
       "      <td>Evolution Forums</td>\n",
       "      <td>abc0fcd21b9818b3010a32d3fa6a4a6c39e76ab908b7e1...</td>\n",
       "      <td>521</td>\n",
       "      <td>2014-01-22 00:00:00</td>\n",
       "      <td>Re: using a black card online</td>\n",
       "      <td>Virtual Carding</td>\n",
       "      <td>I use one black card once, ask for ~5000usd in...</td>\n",
       "      <td>nan</td>\n",
       "      <td>-2378943099660456065</td>\n",
       "    </tr>\n",
       "  </tbody>\n",
       "</table>\n",
       "<p>509225 rows × 10 columns</p>\n",
       "</div>"
      ],
      "text/plain": [
       "         index         community  \\\n",
       "0            0  Evolution Forums   \n",
       "1            1  Evolution Forums   \n",
       "2            2  Evolution Forums   \n",
       "3            3  Evolution Forums   \n",
       "4            4  Evolution Forums   \n",
       "...        ...               ...   \n",
       "509220  509220  Evolution Forums   \n",
       "509221  509221  Evolution Forums   \n",
       "509222  509222  Evolution Forums   \n",
       "509223  509223  Evolution Forums   \n",
       "509224  509224  Evolution Forums   \n",
       "\n",
       "                                                  user_id thread_id  \\\n",
       "0       b3d65d87887506a226923f1b08b67c69faba1efb26a2fa...     37163   \n",
       "1       046ecde3177c87e9173e3d08ec5000ccf13a6f087e1929...     37163   \n",
       "2       a4d9a8a70225b297661655a7ea032387ae4b2fdc5df5b5...     37163   \n",
       "3       753cece12915dd5e69d190c52917990a43a76b07e2f461...     37163   \n",
       "4       5f1f3b0a3a79ea76b1e3b1c5df4ba05d2a9f2c8b30459b...     37163   \n",
       "...                                                   ...       ...   \n",
       "509220  7f2a9aa665e92a06c8bcf8b5b7f627a980c8306b715d71...       513   \n",
       "509221  beb709889f56510ab381dacc58d185bc912f3d57a668a6...       521   \n",
       "509222  f7d85816546b423c78e921c69596979d18ccff73e81030...       521   \n",
       "509223  beb709889f56510ab381dacc58d185bc912f3d57a668a6...       521   \n",
       "509224  abc0fcd21b9818b3010a32d3fa6a4a6c39e76ab908b7e1...       521   \n",
       "\n",
       "                      date                                            subject  \\\n",
       "0      2014-12-10 22:59:52  Changes to order process for FE listings (Auto...   \n",
       "1      2014-12-10 23:03:32  Re: Changes to order process for FE listings (...   \n",
       "2      2014-12-10 23:08:15  Re: Changes to order process for FE listings (...   \n",
       "3      2014-12-10 23:09:08  Re: Changes to order process for FE listings (...   \n",
       "4      2014-12-10 23:09:34  Re: Changes to order process for FE listings (...   \n",
       "...                    ...                                                ...   \n",
       "509220 2014-01-22 00:00:00                 HSBC / Diebold ATM Overlay program   \n",
       "509221 2014-01-22 00:00:00                          using a black card online   \n",
       "509222 2014-01-22 00:00:00                      Re: using a black card online   \n",
       "509223 2014-01-22 00:00:00                      Re: using a black card online   \n",
       "509224 2014-01-22 00:00:00                      Re: using a black card online   \n",
       "\n",
       "                category                                               body  \\\n",
       "0          Announcements  Henceforth Evolution will automatically releas...   \n",
       "1          Announcements  Sweet! No need to keep logging on in the morni...   \n",
       "2          Announcements  Good move, although it will be interesting to ...   \n",
       "3          Announcements  TOOP! thanks Kimble This speeds up the work fo...   \n",
       "4          Announcements   well done, you are all doing a great work kimble   \n",
       "...                  ...                                                ...   \n",
       "509220  Physical Carding  http://k5zq47j6wd3wdvjq.onion/listing/791 Hi, ...   \n",
       "509221   Virtual Carding  anyone have experience with using one? how is ...   \n",
       "509222   Virtual Carding  I have black cards that are non avs and with n...   \n",
       "509223   Virtual Carding  damn....why not though. and i was thinking the...   \n",
       "509224   Virtual Carding  I use one black card once, ask for ~5000usd in...   \n",
       "\n",
       "       quotes                  uuid  \n",
       "0         nan  -4170171173165973422  \n",
       "1         nan  -4410324336093370437  \n",
       "2         nan   2292277039528005701  \n",
       "3         nan   6452620963465746902  \n",
       "4         nan  -7115332770257554039  \n",
       "...       ...                   ...  \n",
       "509220    nan  -5509527057949265645  \n",
       "509221    nan   3323430811865069316  \n",
       "509222    nan  -7900105030804370056  \n",
       "509223    nan  -5650770537237783382  \n",
       "509224    nan  -2378943099660456065  \n",
       "\n",
       "[509225 rows x 10 columns]"
      ]
     },
     "execution_count": 57,
     "metadata": {},
     "output_type": "execute_result"
    }
   ],
   "source": [
    "forum_df"
   ]
  },
  {
   "cell_type": "code",
   "execution_count": 31,
   "metadata": {},
   "outputs": [
    {
     "name": "stdout",
     "output_type": "stream",
     "text": [
      "415 ms ± 3.68 ms per loop (mean ± std. dev. of 7 runs, 1 loop each)\n"
     ]
    }
   ],
   "source": [
    "%%timeit\n",
    "pd.DataFrame([(x[0],x[1][0],x[1][1]) for x in zip(forum_df['uuid'].tolist(), location.tolist())], columns = [\"label\",\"x\", \"y\"]).head(5)"
   ]
  },
  {
   "cell_type": "code",
   "execution_count": 9,
   "metadata": {},
   "outputs": [],
   "source": [
    "# Efficient sample drawing from the dataset\n",
    "data = np.load(\"../data/body_embeddings.npy\", mmap_mode=\"r\")\n",
    "data = data[0:500_000]\n",
    "\n",
    "X = np.array(data.tolist())"
   ]
  },
  {
   "cell_type": "code",
   "execution_count": 10,
   "metadata": {},
   "outputs": [
    {
     "data": {
      "text/plain": [
       "(500000, 512)"
      ]
     },
     "execution_count": 10,
     "metadata": {},
     "output_type": "execute_result"
    }
   ],
   "source": [
    "X.shape"
   ]
  },
  {
   "cell_type": "code",
   "execution_count": 11,
   "metadata": {},
   "outputs": [
    {
     "name": "stdout",
     "output_type": "stream",
     "text": [
      "[W] [12:46:56.523587] # of Nearest Neighbors should be at least 3 * perplexity. Your results might be a bit strange...\n",
      "CPU times: user 14 s, sys: 8.69 s, total: 22.6 s\n",
      "Wall time: 22.5 s\n"
     ]
    }
   ],
   "source": [
    "%%time\n",
    "\n",
    "tsne = TSNE(n_components = 2, perplexity=50)\n",
    "location = tsne.fit_transform(X)"
   ]
  },
  {
   "cell_type": "code",
   "execution_count": 17,
   "metadata": {},
   "outputs": [
    {
     "name": "stdout",
     "output_type": "stream",
     "text": [
      "CPU times: user 7.79 s, sys: 4.39 s, total: 12.2 s\n",
      "Wall time: 12.1 s\n"
     ]
    }
   ],
   "source": [
    "%%time\n",
    "from cuml.manifold import UMAP\n",
    "\n",
    "umap = UMAP()\n",
    "location = umap.fit_transform(X)"
   ]
  },
  {
   "cell_type": "code",
   "execution_count": 12,
   "metadata": {},
   "outputs": [
    {
     "name": "stdout",
     "output_type": "stream",
     "text": [
      "CPU times: user 17 s, sys: 8.49 s, total: 25.5 s\n",
      "Wall time: 25.4 s\n"
     ]
    }
   ],
   "source": [
    "%%time\n",
    "#from cuml.cluster import DBSCAN\n",
    "#dbscan = DBSCAN(eps = .7, min_samples = 3)\n",
    "#labels = dbscan.fit_predict(X)\n",
    "\n",
    "from cuml.cluster import KMeans\n",
    "\n",
    "kmeans = KMeans(n_clusters=100)\n",
    "labels = kmeans.fit_predict(X)"
   ]
  },
  {
   "cell_type": "code",
   "execution_count": 18,
   "metadata": {},
   "outputs": [
    {
     "data": {
      "text/html": [
       "<div>\n",
       "<style scoped>\n",
       "    .dataframe tbody tr th:only-of-type {\n",
       "        vertical-align: middle;\n",
       "    }\n",
       "\n",
       "    .dataframe tbody tr th {\n",
       "        vertical-align: top;\n",
       "    }\n",
       "\n",
       "    .dataframe thead th {\n",
       "        text-align: right;\n",
       "    }\n",
       "</style>\n",
       "<table border=\"1\" class=\"dataframe\">\n",
       "  <thead>\n",
       "    <tr style=\"text-align: right;\">\n",
       "      <th></th>\n",
       "      <th>label</th>\n",
       "      <th>x</th>\n",
       "      <th>y</th>\n",
       "    </tr>\n",
       "  </thead>\n",
       "  <tbody>\n",
       "    <tr>\n",
       "      <th>0</th>\n",
       "      <td>1</td>\n",
       "      <td>3.460067</td>\n",
       "      <td>-0.855825</td>\n",
       "    </tr>\n",
       "    <tr>\n",
       "      <th>1</th>\n",
       "      <td>23</td>\n",
       "      <td>2.007073</td>\n",
       "      <td>0.491921</td>\n",
       "    </tr>\n",
       "    <tr>\n",
       "      <th>2</th>\n",
       "      <td>20</td>\n",
       "      <td>0.392604</td>\n",
       "      <td>1.650586</td>\n",
       "    </tr>\n",
       "    <tr>\n",
       "      <th>3</th>\n",
       "      <td>36</td>\n",
       "      <td>1.862873</td>\n",
       "      <td>0.514634</td>\n",
       "    </tr>\n",
       "    <tr>\n",
       "      <th>4</th>\n",
       "      <td>3</td>\n",
       "      <td>-1.897559</td>\n",
       "      <td>2.140501</td>\n",
       "    </tr>\n",
       "  </tbody>\n",
       "</table>\n",
       "</div>"
      ],
      "text/plain": [
       "   label         x         y\n",
       "0      1  3.460067 -0.855825\n",
       "1     23  2.007073  0.491921\n",
       "2     20  0.392604  1.650586\n",
       "3     36  1.862873  0.514634\n",
       "4      3 -1.897559  2.140501"
      ]
     },
     "execution_count": 18,
     "metadata": {},
     "output_type": "execute_result"
    }
   ],
   "source": [
    "# Read construct DataFrame\n",
    "df = pd.DataFrame([(x[0],x[1][0],x[1][1]) for x in zip(labels, location.tolist())], columns = [\"label\",\"x\", \"y\"])\n",
    "df.head()"
   ]
  },
  {
   "cell_type": "code",
   "execution_count": 22,
   "metadata": {},
   "outputs": [],
   "source": [
    "# import holoviews as hv\n",
    "# from holoviews.operation.datashader import datashade\n",
    "# import datashader as ds\n",
    "\n",
    "# hv.extension('bokeh')\n",
    "\n",
    "\n",
    "# opts = hv.opts.RGB(width=800, height=600)\n",
    "\n",
    "# # Uncomment to run, result is too large to save it with the notebook\n",
    "# scatter = hv.Scatter(df, kdims=[\"x\"], vdims=[\"y\",\"label\"])\n",
    "# scatter.opts(color=\"label\", cmap=\"glasbey_warm\", width=800, height=600)\n",
    "\n",
    "# # scatter\n",
    "# # #datashade(scatter, cmap=\"glasbey_warm\").opts(opts)"
   ]
  },
  {
   "cell_type": "code",
   "execution_count": null,
   "metadata": {},
   "outputs": [],
   "source": []
  }
 ],
 "metadata": {
  "kernelspec": {
   "display_name": "Python 3",
   "language": "python",
   "name": "python3"
  },
  "language_info": {
   "codemirror_mode": {
    "name": "ipython",
    "version": 3
   },
   "file_extension": ".py",
   "mimetype": "text/x-python",
   "name": "python",
   "nbconvert_exporter": "python",
   "pygments_lexer": "ipython3",
   "version": "3.7.8"
  }
 },
 "nbformat": 4,
 "nbformat_minor": 4
}
