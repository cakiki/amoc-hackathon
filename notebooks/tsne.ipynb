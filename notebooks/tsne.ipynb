{
 "cells": [
  {
   "cell_type": "code",
   "execution_count": 1,
   "metadata": {},
   "outputs": [],
   "source": [
    "import pandas as pd\n",
    "import numpy as np\n",
    "import cupy as cp\n",
    "import cudf\n",
    "from cuml.manifold import TSNE"
   ]
  },
  {
   "cell_type": "code",
   "execution_count": 2,
   "metadata": {},
   "outputs": [],
   "source": [
    "df = pd.read_parquet('../data/base.parquet').reset_index()\n",
    "data = cp.load(\"../data/body_embeddings.npy\", mmap_mode=\"r\")"
   ]
  },
  {
   "cell_type": "code",
   "execution_count": null,
   "metadata": {},
   "outputs": [
    {
     "name": "stdout",
     "output_type": "stream",
     "text": [
      " Now writing evolutionforums_perplexity_10_x_y.parquet\n",
      " Now writing themajesticgardenforums_perplexity_10_x_y.parquet\n",
      " Now writing cannabisroad2_perplexity_10_x_y.parquet\n",
      " Now writing outlawmarketforums_perplexity_10_x_y.parquet\n",
      " Now writing blackbankmarketforums_perplexity_10_x_y.parquet\n",
      " Now writing tortugaforums_perplexity_10_x_y.parquet\n",
      " Now writing thehubforums_perplexity_10_x_y.parquet\n",
      " Now writing panaceaforums_perplexity_10_x_y.parquet\n",
      " Now writing agoraforums_perplexity_10_x_y.parquet\n",
      " Now writing projectblackflagforums_perplexity_10_x_y.parquet\n",
      " Now writing pandoraforums_perplexity_10_x_y.parquet\n",
      " Now writing webkill_perplexity_10_x_y.parquet\n",
      " Now writing revolverforums_perplexity_10_x_y.parquet\n",
      " Now writing greyroadforums_perplexity_10_x_y.parquet\n",
      " Now writing cannabisroad3_perplexity_10_x_y.parquet\n",
      " Now writing bungee54forums_perplexity_10_x_y.parquet\n",
      " Now writing kissforums_perplexity_10_x_y.parquet\n",
      " Now writing dogeroadforums_perplexity_10_x_y.parquet\n",
      " Now writing therealdealforums_perplexity_10_x_y.parquet\n",
      " Now writing hackhound_perplexity_10_x_y.parquet\n",
      " Now writing abraxasforums_perplexity_10_x_y.parquet\n"
     ]
    }
   ],
   "source": [
    "%%time\n",
    "for forum in df['community'].unique():\n",
    "    forum_df = df[df['community'] == forum]\n",
    "    ix = cp.array(forum_df.index)\n",
    "    X_forum = data[ix]\n",
    "    PERPLEXITY = 10\n",
    "    tsne = TSNE(n_components = 2, perplexity=PERPLEXITY)\n",
    "    location = tsne.fit_transform(X_forum)\n",
    "    forum_x_y = cudf.DataFrame([(x[0],x[1][0],x[1][1]) for x in zip(forum_df['uuid'].tolist(), location.tolist())], columns = [\"uuid\",\"x\", \"y\"])\n",
    "    print(f' Now writing {forum.lower().replace(\" \", \"\")}_perplexity_{PERPLEXITY}_x_y.parquet')\n",
    "    forum_x_y.to_parquet(f'../data/{forum.lower().replace(\" \", \"\")}_perplexity_{PERPLEXITY}_x_y.parquet')"
   ]
  },
  {
   "cell_type": "code",
   "execution_count": null,
   "metadata": {},
   "outputs": [
    {
     "name": "stdout",
     "output_type": "stream",
     "text": [
      " Now writing blackmarketreloadedforums_perplexity_10_x_y.parquet\n",
      " Now writing silkroad2forums_perplexity_10_x_y.parquet\n",
      " Now writing utopiaforums_perplexity_10_x_y.parquet\n",
      " Now writing darkbayforums_perplexity_10_x_y.parquet\n"
     ]
    }
   ],
   "source": [
    "for forum in ['BlackMarketReloaded Forums', 'Silk Road 2 Forums', 'Utopia Forums', 'DarkBay Forums', 'crackingfire', 'DarknetHeroes Forums', \n",
    "              'Diabolus Forums', 'Andromeda Forums', 'Kingdom Forums', 'Havana/Absolem Forums', 'Silk Road Forums', 'crackingarena', \n",
    "              'MrNiceGuy Forums', 'Nucleus Forums', 'Hydra Forums', 'TorBazaar Forums', 'Tom Forums', 'TorEscrow Forums']:\n",
    "    forum_df = df[df['community'] == forum]\n",
    "    ix = cp.array(forum_df.index)\n",
    "    X_forum = data[ix]\n",
    "    PERPLEXITY = 10\n",
    "    tsne = TSNE(n_components = 2, perplexity=PERPLEXITY)\n",
    "    location = tsne.fit_transform(X_forum)\n",
    "    forum_x_y = cudf.DataFrame([(x[0],x[1][0],x[1][1]) for x in zip(forum_df['uuid'].tolist(), location.tolist())], columns = [\"uuid\",\"x\", \"y\"])\n",
    "    print(f' Now writing {forum.lower().replace(\" \", \"\")}_perplexity_{PERPLEXITY}_x_y.parquet')\n",
    "    forum_x_y.to_parquet(f'../data/{forum.lower().replace(\" \", \"\")}_perplexity_{PERPLEXITY}_x_y.parquet')"
   ]
  },
  {
   "cell_type": "code",
   "execution_count": null,
   "metadata": {},
   "outputs": [
    {
     "name": "stdout",
     "output_type": "stream",
     "text": [
      " Now writing darknetheroesforums_perplexity_10_x_y.parquet\n",
      " Now writing diabolusforums_perplexity_10_x_y.parquet\n",
      " Now writing andromedaforums_perplexity_10_x_y.parquet\n",
      " Now writing kingdomforums_perplexity_10_x_y.parquet\n",
      " Now writing havana/absolemforums_perplexity_10_x_y.parquet\n",
      " Now writing silkroadforums_perplexity_10_x_y.parquet\n"
     ]
    }
   ],
   "source": [
    "for forum in ['DarknetHeroes Forums', 'Diabolus Forums', 'Andromeda Forums', 'Kingdom Forums', 'Havana/Absolem Forums', 'Silk Road Forums', \n",
    "              'crackingarena', 'MrNiceGuy Forums', 'Nucleus Forums', 'Hydra Forums', 'TorBazaar Forums', 'Tom Forums', 'TorEscrow Forums']:\n",
    "    forum_df = df[df['community'] == forum]\n",
    "    ix = cp.array(forum_df.index)\n",
    "    X_forum = data[ix]\n",
    "    PERPLEXITY = 10\n",
    "    tsne = TSNE(n_components = 2, perplexity=PERPLEXITY)\n",
    "    location = tsne.fit_transform(X_forum)\n",
    "    forum_x_y = cudf.DataFrame([(x[0],x[1][0],x[1][1]) for x in zip(forum_df['uuid'].tolist(), location.tolist())], columns = [\"uuid\",\"x\", \"y\"])\n",
    "    print(f' Now writing {forum.lower().replace(\" \", \"\")}_perplexity_{PERPLEXITY}_x_y.parquet')\n",
    "    forum_x_y.to_parquet(f'../data/{forum.lower().replace(\" \", \"\").replace(\"/\", \"\")}_perplexity_{PERPLEXITY}_x_y.parquet')"
   ]
  },
  {
   "cell_type": "code",
   "execution_count": 3,
   "metadata": {},
   "outputs": [
    {
     "name": "stdout",
     "output_type": "stream",
     "text": [
      "[W] [14:03:45.674905] # of Nearest Neighbors should be at least 3 * perplexity. Your results might be a bit strange...\n",
      " Now writing mrniceguyforums_perplexity_10_x_y.parquet\n",
      " Now writing nucleusforums_perplexity_10_x_y.parquet\n",
      " Now writing hydraforums_perplexity_10_x_y.parquet\n",
      " Now writing torbazaarforums_perplexity_10_x_y.parquet\n",
      " Now writing tomforums_perplexity_10_x_y.parquet\n",
      " Now writing torescrowforums_perplexity_10_x_y.parquet\n"
     ]
    }
   ],
   "source": [
    "for forum in ['MrNiceGuy Forums', 'Nucleus Forums', 'Hydra Forums', 'TorBazaar Forums', 'Tom Forums', 'TorEscrow Forums']:\n",
    "    forum_df = df[df['community'] == forum]\n",
    "    ix = cp.array(forum_df.index)\n",
    "    X_forum = data[ix]\n",
    "    PERPLEXITY = 10\n",
    "    tsne = TSNE(n_components = 2, perplexity=PERPLEXITY)\n",
    "    location = tsne.fit_transform(X_forum)\n",
    "    forum_x_y = cudf.DataFrame([(x[0],x[1][0],x[1][1]) for x in zip(forum_df['uuid'].tolist(), location.tolist())], columns = [\"uuid\",\"x\", \"y\"])\n",
    "    print(f' Now writing {forum.lower().replace(\" \", \"\")}_perplexity_{PERPLEXITY}_x_y.parquet')\n",
    "    forum_x_y.to_parquet(f'../data/{forum.lower().replace(\" \", \"\").replace(\"/\", \"\")}_perplexity_{PERPLEXITY}_x_y.parquet')"
   ]
  },
  {
   "cell_type": "code",
   "execution_count": null,
   "metadata": {},
   "outputs": [],
   "source": [
    "for forum in ['crackingfire','crackingarena','Alphabay']:\n",
    "    forum_df = df[df['community'] == forum]\n",
    "    ix = cp.array(forum_df.index)\n",
    "    X_forum = data[ix]\n",
    "    PERPLEXITY = 10\n",
    "    tsne = TSNE(n_components = 2, perplexity=PERPLEXITY)\n",
    "    location = tsne.fit_transform(X_forum)\n",
    "    forum_x_y = cudf.DataFrame([(x[0],x[1][0],x[1][1]) for x in zip(forum_df['uuid'].tolist(), location.tolist())], columns = [\"uuid\",\"x\", \"y\"])\n",
    "    print(f' Now writing {forum.lower().replace(\" \", \"\")}_perplexity_{PERPLEXITY}_x_y.parquet')\n",
    "    forum_x_y.to_parquet(f'../data/{forum.lower().replace(\" \", \"\").replace(\"/\", \"\")}_perplexity_{PERPLEXITY}_x_y.parquet')"
   ]
  },
  {
   "cell_type": "code",
   "execution_count": 5,
   "metadata": {},
   "outputs": [
    {
     "name": "stdout",
     "output_type": "stream",
     "text": [
      "37572\n",
      "44927\n",
      "53741\n"
     ]
    }
   ],
   "source": [
    "for forum in ['crackingfire','crackingarena','Alphabay']:\n",
    "    print(len(df[df['community'] == forum]))"
   ]
  },
  {
   "cell_type": "code",
   "execution_count": 17,
   "metadata": {},
   "outputs": [
    {
     "name": "stdout",
     "output_type": "stream",
     "text": [
      "CPU times: user 7.79 s, sys: 4.39 s, total: 12.2 s\n",
      "Wall time: 12.1 s\n"
     ]
    }
   ],
   "source": [
    "%%time\n",
    "from cuml.manifold import UMAP\n",
    "\n",
    "umap = UMAP()\n",
    "location = umap.fit_transform(X)"
   ]
  },
  {
   "cell_type": "code",
   "execution_count": 12,
   "metadata": {},
   "outputs": [
    {
     "name": "stdout",
     "output_type": "stream",
     "text": [
      "CPU times: user 17 s, sys: 8.49 s, total: 25.5 s\n",
      "Wall time: 25.4 s\n"
     ]
    }
   ],
   "source": [
    "%%time\n",
    "#from cuml.cluster import DBSCAN\n",
    "#dbscan = DBSCAN(eps = .7, min_samples = 3)\n",
    "#labels = dbscan.fit_predict(X)\n",
    "\n",
    "from cuml.cluster import KMeans\n",
    "\n",
    "kmeans = KMeans(n_clusters=100)\n",
    "labels = kmeans.fit_predict(X)"
   ]
  },
  {
   "cell_type": "code",
   "execution_count": 22,
   "metadata": {},
   "outputs": [],
   "source": [
    "# import holoviews as hv\n",
    "# from holoviews.operation.datashader import datashade\n",
    "# import datashader as ds\n",
    "\n",
    "# hv.extension('bokeh')\n",
    "\n",
    "\n",
    "# opts = hv.opts.RGB(width=800, height=600)\n",
    "\n",
    "# # Uncomment to run, result is too large to save it with the notebook\n",
    "# scatter = hv.Scatter(df, kdims=[\"x\"], vdims=[\"y\",\"label\"])\n",
    "# scatter.opts(color=\"label\", cmap=\"glasbey_warm\", width=800, height=600)\n",
    "\n",
    "# # scatter\n",
    "# # #datashade(scatter, cmap=\"glasbey_warm\").opts(opts)"
   ]
  },
  {
   "cell_type": "code",
   "execution_count": null,
   "metadata": {},
   "outputs": [],
   "source": []
  }
 ],
 "metadata": {
  "kernelspec": {
   "display_name": "Python 3",
   "language": "python",
   "name": "python3"
  },
  "language_info": {
   "codemirror_mode": {
    "name": "ipython",
    "version": 3
   },
   "file_extension": ".py",
   "mimetype": "text/x-python",
   "name": "python",
   "nbconvert_exporter": "python",
   "pygments_lexer": "ipython3",
   "version": "3.7.8"
  }
 },
 "nbformat": 4,
 "nbformat_minor": 4
}
