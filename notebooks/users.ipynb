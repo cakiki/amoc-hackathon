{
 "cells": [
  {
   "cell_type": "code",
   "execution_count": 1,
   "metadata": {},
   "outputs": [],
   "source": [
    "import pandas as pd"
   ]
  },
  {
   "cell_type": "code",
   "execution_count": 2,
   "metadata": {},
   "outputs": [],
   "source": [
    "df_posts = pd.read_parquet(\"../data/base.parquet\").replace({\"nan\": pd.NA})"
   ]
  },
  {
   "cell_type": "code",
   "execution_count": 7,
   "metadata": {},
   "outputs": [],
   "source": [
    "users = (\n",
    "    pd.concat([\n",
    "        df_posts.dropna(subset=[\"quotes\"]).groupby(\"user_id\").count().quotes,\n",
    "        df_posts.dropna(subset=[\"body\"]).groupby(\"user_id\").count().body,\n",
    "        df_posts.drop_duplicates(subset=[\"user_id\", \"thread_id\"]).groupby(\"user_id\").count().thread_id,\n",
    "        df_posts.groupby(\"user_id\").date.min().reset_index().rename({\"date\":\"activity_first\"},axis=1).set_index(\"user_id\"),\n",
    "        df_posts.groupby(\"user_id\").date.max().reset_index().rename({\"date\":\"activity_last\"},axis=1).set_index(\"user_id\"),\n",
    "        df_posts.groupby(\"user_id\").community.unique(),\n",
    "    ], axis=1)\n",
    "    .reset_index()\n",
    "    .rename({\n",
    "        \"quotes\": \"num_quotes\",\n",
    "        \"body\": \"num_posts\",\n",
    "        \"thread_id\": \"num_threads\",\n",
    "        \"index\": \"user_id\",\n",
    "    }, axis=1)\n",
    "    .fillna(0)\n",
    ")"
   ]
  },
  {
   "cell_type": "code",
   "execution_count": 10,
   "metadata": {},
   "outputs": [],
   "source": [
    "users.community = users.community.apply(lambda x: x[0])"
   ]
  },
  {
   "cell_type": "code",
   "execution_count": 12,
   "metadata": {},
   "outputs": [],
   "source": [
    "users.to_parquet(\"../data/users.parquet\", compression=\"gzip\")"
   ]
  }
 ],
 "metadata": {
  "kernelspec": {
   "display_name": "Python 3",
   "language": "python",
   "name": "python3"
  },
  "language_info": {
   "codemirror_mode": {
    "name": "ipython",
    "version": 3
   },
   "file_extension": ".py",
   "mimetype": "text/x-python",
   "name": "python",
   "nbconvert_exporter": "python",
   "pygments_lexer": "ipython3",
   "version": "3.8.6"
  }
 },
 "nbformat": 4,
 "nbformat_minor": 4
}
