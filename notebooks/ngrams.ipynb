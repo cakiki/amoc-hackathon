{
 "cells": [
  {
   "cell_type": "code",
   "execution_count": 1,
   "metadata": {},
   "outputs": [
    {
     "data": {
      "text/html": [
       "<style>.container { width:95% !important; }</style>"
      ],
      "text/plain": [
       "<IPython.core.display.HTML object>"
      ]
     },
     "metadata": {},
     "output_type": "display_data"
    }
   ],
   "source": [
    "from IPython.core.display import display, HTML, Image\n",
    "display(HTML(\"<style>.container { width:95% !important; }</style>\"))"
   ]
  },
  {
   "cell_type": "code",
   "execution_count": 3,
   "metadata": {},
   "outputs": [],
   "source": [
    "from collections import Counter\n",
    "import json\n",
    "from itertools import chain\n",
    "import pandas as pd\n",
    "import numpy as np\n",
    "import nltk\n",
    "from nltk.tokenize import RegexpTokenizer, TweetTokenizer\n",
    "from nltk.stem.wordnet import WordNetLemmatizer\n",
    "from gensim.models import Phrases\n",
    "from itertools import chain\n",
    "from gensim.corpora import Dictionary\n",
    "import matplotlib.pyplot as plt\n",
    "from nltk.corpus import stopwords"
   ]
  },
  {
   "cell_type": "code",
   "execution_count": 5,
   "metadata": {},
   "outputs": [
    {
     "name": "stdout",
     "output_type": "stream",
     "text": [
      "Loaded 179 stopwords from NLTK\n",
      "Loaded 326 stopwords from SPACY\n",
      "Loaded 318 stopwords from SKLEARN\n",
      "----------------------------------\n",
      "409 combined stopwords\n"
     ]
    },
    {
     "name": "stderr",
     "output_type": "stream",
     "text": [
      "[nltk_data] Downloading package stopwords to /root/nltk_data...\n",
      "[nltk_data]   Package stopwords is already up-to-date!\n"
     ]
    }
   ],
   "source": [
    "from sklearn.feature_extraction.text import ENGLISH_STOP_WORDS as SKLEARN_STOPWORDS\n",
    "from spacy.lang.en.stop_words import STOP_WORDS as SPACY_STOPWORDS\n",
    "from nltk.corpus import stopwords\n",
    "\n",
    "SKLEARN_STOPWORDS = set(SKLEARN_STOPWORDS)\n",
    "nltk.download('stopwords')\n",
    "NLTK_STOPWORDS = set(stopwords.words('english'))\n",
    "print(f'Loaded {len(NLTK_STOPWORDS)} stopwords from NLTK')\n",
    "print(f'Loaded {len(SPACY_STOPWORDS)} stopwords from SPACY')\n",
    "print(f'Loaded {len(SKLEARN_STOPWORDS)} stopwords from SKLEARN')\n",
    "stop_words = list(set.union(*[SKLEARN_STOPWORDS, SPACY_STOPWORDS, NLTK_STOPWORDS]))\n",
    "print('----------------------------------')\n",
    "print(f'{len(stop_words)} combined stopwords')"
   ]
  },
  {
   "cell_type": "code",
   "execution_count": 6,
   "metadata": {},
   "outputs": [
    {
     "name": "stdout",
     "output_type": "stream",
     "text": [
      "CPU times: user 11.6 s, sys: 3.44 s, total: 15.1 s\n",
      "Wall time: 10.8 s\n"
     ]
    }
   ],
   "source": [
    "%%time\n",
    "df = pd.read_parquet('../data/base.parquet')"
   ]
  },
  {
   "cell_type": "code",
   "execution_count": 7,
   "metadata": {},
   "outputs": [],
   "source": [
    "tokenizer = TweetTokenizer()"
   ]
  },
  {
   "cell_type": "code",
   "execution_count": 8,
   "metadata": {},
   "outputs": [
    {
     "name": "stdout",
     "output_type": "stream",
     "text": [
      "CPU times: user 1h 56min 2s, sys: 14.7 s, total: 1h 56min 16s\n",
      "Wall time: 1h 56min 17s\n"
     ]
    }
   ],
   "source": [
    "%%time\n",
    "corpus = df['body'].values\n",
    "corpus = [doc.lower() for doc in corpus]\n",
    "corpus = [tokenizer.tokenize(doc) for doc in corpus]\n",
    "corpus = [[token for token in doc if (not token.isnumeric() and len(token) > 1)] for doc in corpus]\n",
    "corpus= [[token for token in doc if (not token in stop_words)] for doc in corpus]\n",
    "bigram = Phrases(corpus, min_count=1)\n",
    "trigram = Phrases(bigram[corpus], min_count=1)\n",
    "fourgram = Phrases(trigram[corpus], min_count=1)\n",
    "bigrams = []\n",
    "trigrams = []\n",
    "fourgrams = []\n",
    "for doc in corpus:\n",
    "    b = [b for b in bigram[doc] if b.count('_') == 1]\n",
    "    t = [t for t in trigram[bigram[doc]] if t.count('_') == 2]\n",
    "    f = [f for f in fourgram[trigram[bigram[doc]]] if f.count('_') == 3]\n",
    "    bigrams.extend(b)\n",
    "    trigrams.extend(t)\n",
    "    fourgrams.extend(f)"
   ]
  },
  {
   "cell_type": "code",
   "execution_count": 9,
   "metadata": {},
   "outputs": [],
   "source": [
    "bigram_counter = Counter(bigrams)\n",
    "trigram_counter = Counter(trigrams)\n",
    "fourgram_counter = Counter(fourgrams)"
   ]
  },
  {
   "cell_type": "code",
   "execution_count": 18,
   "metadata": {},
   "outputs": [
    {
     "data": {
      "text/plain": [
       "[('fullz_info', 672389),\n",
       " ('visa_master', 517715),\n",
       " ('western_union', 420247),\n",
       " ('gold_platinum', 314109),\n",
       " ('bin_dob', 276858),\n",
       " ('visa_classic', 229860),\n",
       " ('amex_dis', 190681),\n",
       " ('amex_discover', 184850),\n",
       " ('credit_card', 169005),\n",
       " ('balance_gbp', 153908),\n",
       " ('bank_login', 146700),\n",
       " ('corporate_signature', 143236),\n",
       " ('paypal_veritified', 139010),\n",
       " ('mtcn_sender', 125489),\n",
       " ('track_pin', 107227),\n",
       " ('contact_yahoo', 104594),\n",
       " ('accept_payment', 99325),\n",
       " ('ship_laptop', 94285),\n",
       " ('ship_iphone', 93259),\n",
       " ('acc_paypal', 90141)]"
      ]
     },
     "execution_count": 18,
     "metadata": {},
     "output_type": "execute_result"
    }
   ],
   "source": [
    "bigram_counter.most_common(20)"
   ]
  },
  {
   "cell_type": "code",
   "execution_count": 17,
   "metadata": {},
   "outputs": [
    {
     "data": {
      "text/plain": [
       "[('sell_paypal_veritified', 126008),\n",
       " ('bin_dob_fullz', 116384),\n",
       " ('visa_gold_platinum', 110676),\n",
       " ('visa_classic_visa', 77455),\n",
       " ('sell_paypal_pass', 74596),\n",
       " ('gold_platinum_business', 72967),\n",
       " ('corporate_signature_business', 65393),\n",
       " ('cc_fresh_hight', 53526),\n",
       " ('good_customers_long-term', 52721),\n",
       " ('http://abraxasdegupusel.onion/register/ot9av77ebg_http://abraxasdegupusel.onion/register/ot9av77ebg_http://abraxasdegupusel.onion/register/ot9av77ebg',\n",
       "  45901),\n",
       " ('information_western_union', 45222),\n",
       " ('good_dont_work', 42105),\n",
       " ('business_mastercard_gold', 40441),\n",
       " ('balance_software_bug', 38891),\n",
       " ('info_payment_fee', 37756),\n",
       " ('dumps_track_1/2', 37707),\n",
       " ('balance_sample_track', 37200),\n",
       " ('usa_visa_classic', 36596),\n",
       " ('buy_spam_hate', 36201),\n",
       " ('accept_payment_money', 33665)]"
      ]
     },
     "execution_count": 17,
     "metadata": {},
     "output_type": "execute_result"
    }
   ],
   "source": [
    "trigram_counter.most_common(20)"
   ]
  },
  {
   "cell_type": "code",
   "execution_count": 16,
   "metadata": {},
   "outputs": [
    {
     "data": {
      "text/plain": [
       "[('___', 164669),\n",
       " ('visa_master_amex_discover', 149491),\n",
       " ('gold_platinum_corporate_signature', 77836),\n",
       " ('bin_dob_fullz_info', 71859),\n",
       " ('visa_master_amex_dis', 70066),\n",
       " ('balance_gbp_balance_gbp', 63399),\n",
       " ('mtcn_sender_country_sender', 53070),\n",
       " ('dumps_tracks_dumps_tracks', 46240),\n",
       " ('referral_link_pleasure_http://abraxasdegupusel.onion/register/ot9av77ebg',\n",
       "  46052),\n",
       " ('signature_purchase_corporate_world', 40434),\n",
       " ('spam_ripper_want_spam', 35456),\n",
       " ('countries_mastercard_visa_classic', 33879),\n",
       " ('visa_classic_mastercard_standart', 33148),\n",
       " ('asia_australia_exotic_mastercard', 32890),\n",
       " ('random_bin_vbv_dob', 30156),\n",
       " ('1acc_selling_acc_paypal', 30084),\n",
       " ('mastercard_gold_platinum_american', 30070),\n",
       " ('express_sid_discover_canada', 29873),\n",
       " ('thread_hope_better_customer', 28320),\n",
       " ('ireland_new_zeland_switherland', 27657)]"
      ]
     },
     "execution_count": 16,
     "metadata": {},
     "output_type": "execute_result"
    }
   ],
   "source": [
    "fourgram_counter.most_common(20)"
   ]
  },
  {
   "cell_type": "code",
   "execution_count": 12,
   "metadata": {},
   "outputs": [],
   "source": [
    "with open('../data/bigrams.json', 'w') as f:\n",
    "    json.dump(dict(bigram_counter), f)"
   ]
  },
  {
   "cell_type": "code",
   "execution_count": 13,
   "metadata": {},
   "outputs": [],
   "source": [
    "with open('../data/trigrams.json', 'w') as f:\n",
    "    json.dump(dict(trigram_counter), f)"
   ]
  },
  {
   "cell_type": "code",
   "execution_count": 14,
   "metadata": {},
   "outputs": [],
   "source": [
    "with open('../data/fourgrams.json', 'w') as f:\n",
    "    json.dump(dict(fourgram_counter), f)"
   ]
  }
 ],
 "metadata": {
  "kernelspec": {
   "display_name": "Python 3",
   "language": "python",
   "name": "python3"
  },
  "language_info": {
   "codemirror_mode": {
    "name": "ipython",
    "version": 3
   },
   "file_extension": ".py",
   "mimetype": "text/x-python",
   "name": "python",
   "nbconvert_exporter": "python",
   "pygments_lexer": "ipython3",
   "version": "3.6.9"
  }
 },
 "nbformat": 4,
 "nbformat_minor": 2
}
